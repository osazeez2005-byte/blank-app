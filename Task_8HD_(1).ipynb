{
  "cells": [
    {
      "cell_type": "markdown",
      "metadata": {
        "id": "view-in-github",
        "colab_type": "text"
      },
      "source": [
        "<a href=\"https://colab.research.google.com/github/osazeez2005-byte/blank-app/blob/main/Task_8HD_(1).ipynb\" target=\"_parent\"><img src=\"https://colab.research.google.com/assets/colab-badge.svg\" alt=\"Open In Colab\"/></a>"
      ]
    },
    {
      "cell_type": "markdown",
      "id": "1777f492-aea4-44fc-92fc-1959f88db6a6",
      "metadata": {
        "id": "1777f492-aea4-44fc-92fc-1959f88db6a6"
      },
      "source": [
        "Task 8HD: SIG731 - Data Wrangling A study of the impact of Sustainable practices on Environmental, Social and Economic outcomes in the United States.\n",
        "**Azeez Oyeniyi Sikirudeen s225177518** email-address - osazeez2005@gmail.com"
      ]
    },
    {
      "cell_type": "code",
      "execution_count": null,
      "id": "05a6a37b-14a2-4226-9c68-10f4eace4465",
      "metadata": {
        "id": "05a6a37b-14a2-4226-9c68-10f4eace4465"
      },
      "outputs": [],
      "source": []
    },
    {
      "cell_type": "markdown",
      "id": "497cf249-71d2-48c0-81dd-bc59289f42bf",
      "metadata": {
        "id": "497cf249-71d2-48c0-81dd-bc59289f42bf"
      },
      "source": [
        "**Introduction**\n",
        "\n",
        "- Study Background\n",
        "\n",
        "- Sustainability has become a global issue with increasing recognition of the need to balance economic, social and environmental outcomes.\n",
        "\n",
        "- The objective of the study is to evaluate the effectiveness of sustainable practices resulted in\n",
        "achieving environmental, social and economic benefits in the United States.\n",
        "\n",
        "- Methodology\n",
        "\n",
        "- This study used dataset from stackexchange on sustainability, the data will be explored to assess the impact of sustainable practices on water quality, gas emmission, employment rates, and community engagement."
      ]
    },
    {
      "cell_type": "code",
      "execution_count": null,
      "id": "c3f18b71-cd08-4888-9591-b18bc143343e",
      "metadata": {
        "id": "c3f18b71-cd08-4888-9591-b18bc143343e",
        "outputId": "35f03924-7816-4f7d-d00b-e15c69d0565c"
      },
      "outputs": [
        {
          "name": "stdout",
          "output_type": "stream",
          "text": [
            "Requirement already satisfied: folium in c:\\users\\oyeniyi azeez\\anaconda3\\lib\\site-packages (0.19.4)\n",
            "Requirement already satisfied: branca>=0.6.0 in c:\\users\\oyeniyi azeez\\anaconda3\\lib\\site-packages (from folium) (0.8.1)\n",
            "Requirement already satisfied: jinja2>=2.9 in c:\\users\\oyeniyi azeez\\anaconda3\\lib\\site-packages (from folium) (3.1.4)\n",
            "Requirement already satisfied: numpy in c:\\users\\oyeniyi azeez\\anaconda3\\lib\\site-packages (from folium) (1.26.0)\n",
            "Requirement already satisfied: requests in c:\\users\\oyeniyi azeez\\anaconda3\\lib\\site-packages (from folium) (2.32.2)\n",
            "Requirement already satisfied: xyzservices in c:\\users\\oyeniyi azeez\\anaconda3\\lib\\site-packages (from folium) (2022.9.0)\n",
            "Requirement already satisfied: MarkupSafe>=2.0 in c:\\users\\oyeniyi azeez\\anaconda3\\lib\\site-packages (from jinja2>=2.9->folium) (2.1.3)\n",
            "Requirement already satisfied: charset-normalizer<4,>=2 in c:\\users\\oyeniyi azeez\\anaconda3\\lib\\site-packages (from requests->folium) (2.0.4)\n",
            "Requirement already satisfied: idna<4,>=2.5 in c:\\users\\oyeniyi azeez\\anaconda3\\lib\\site-packages (from requests->folium) (3.7)\n",
            "Requirement already satisfied: urllib3<3,>=1.21.1 in c:\\users\\oyeniyi azeez\\anaconda3\\lib\\site-packages (from requests->folium) (2.5.0)\n",
            "Requirement already satisfied: certifi>=2017.4.17 in c:\\users\\oyeniyi azeez\\anaconda3\\lib\\site-packages (from requests->folium) (2025.7.14)\n"
          ]
        }
      ],
      "source": [
        "!pip install folium"
      ]
    },
    {
      "cell_type": "code",
      "execution_count": null,
      "id": "2fed157c-be7e-4230-8c26-8eabbbf01d31",
      "metadata": {
        "id": "2fed157c-be7e-4230-8c26-8eabbbf01d31"
      },
      "outputs": [],
      "source": []
    },
    {
      "cell_type": "code",
      "execution_count": null,
      "id": "57509048-8bd8-4bbd-9ec5-46425b47bc2b",
      "metadata": {
        "id": "57509048-8bd8-4bbd-9ec5-46425b47bc2b"
      },
      "outputs": [],
      "source": [
        "import numpy as np\n",
        "import pandas as pd\n",
        "import matplotlib.pyplot as plt\n",
        "import seaborn as sns\n",
        "pd.set_option(\"display.notebook_repr_html\", False)  # disable \"rich\" output\n",
        "import sqlite3\n",
        "import requests\n",
        "import os\n",
        "import folium\n",
        "from IPython.display import IFrame\n",
        "import re\n",
        "import nltk"
      ]
    },
    {
      "cell_type": "code",
      "execution_count": null,
      "id": "72df80fa-4a6c-4543-872d-c323aee750e1",
      "metadata": {
        "id": "72df80fa-4a6c-4543-872d-c323aee750e1"
      },
      "outputs": [],
      "source": []
    },
    {
      "cell_type": "code",
      "execution_count": null,
      "id": "08ef1bf2-b274-4e91-bf55-71acd2004f1f",
      "metadata": {
        "id": "08ef1bf2-b274-4e91-bf55-71acd2004f1f",
        "outputId": "cc617800-85cb-45cc-f3ed-f3d7ddb0dfd0"
      },
      "outputs": [
        {
          "data": {
            "text/plain": [
              "<bound method NDFrame.head of       Id          TagName  Count  ExcerptPostId  WikiPostId\n",
              "0      1        husbandry     16          256.0       255.0\n",
              "1      2             food    112          903.0       902.0\n",
              "2      3          insects     11            NaN         NaN\n",
              "3      4          animals     28         9948.0      9947.0\n",
              "4      5         mollusca      1         1101.0      1100.0\n",
              "..   ...              ...    ...            ...         ...\n",
              "232  556  nitrogen-oxides      1        12658.0     12657.0\n",
              "233  557   sulphur-oxides      1        12660.0     12659.0\n",
              "234  558    solarmeitheal      1            NaN         NaN\n",
              "235  561              nox      1            NaN         NaN\n",
              "236  562           diesel      1            NaN         NaN\n",
              "\n",
              "[237 rows x 5 columns]>"
            ]
          },
          "execution_count": 5,
          "metadata": {},
          "output_type": "execute_result"
        }
      ],
      "source": [
        "Tags = pd.read_xml(\"C:\\\\Users\\\\OYENIYI AZEEZ\\\\Downloads\\\\sustainability.stackexchange.com (1)\\\\Tags.xml\")\n",
        "Tags.to_csv(\"out.csv\", index=False)\n",
        "Tags.head"
      ]
    },
    {
      "cell_type": "code",
      "execution_count": null,
      "id": "2f00fd86-14fa-47f3-811d-f925312edb9c",
      "metadata": {
        "id": "2f00fd86-14fa-47f3-811d-f925312edb9c",
        "outputId": "845ee8f1-0f6f-4a24-87ec-8f5a1de973bc"
      },
      "outputs": [
        {
          "data": {
            "text/plain": [
              "<bound method NDFrame.head of           Id  Reputation             CreationDate  \\\n",
              "0         -1           1  2013-01-29T18:16:44.083   \n",
              "1          1         101  2013-01-29T18:35:41.860   \n",
              "2          2         101  2013-01-29T18:37:52.767   \n",
              "3          3         101  2013-01-29T18:42:55.147   \n",
              "4          4         101  2013-01-29T18:56:31.877   \n",
              "...      ...         ...                      ...   \n",
              "10492  15587           1  2024-03-28T16:30:34.950   \n",
              "10493  15588           1  2024-03-28T19:23:41.113   \n",
              "10494  15590         101  2024-03-30T17:48:05.680   \n",
              "10495  15591           1  2024-03-31T16:10:22.483   \n",
              "10496  15592           1  2024-03-31T21:41:57.420   \n",
              "\n",
              "                          DisplayName           LastAccessDate  \\\n",
              "0                           Community  2013-01-29T18:16:44.083   \n",
              "1                         Nick Craver  2019-10-13T14:35:21.183   \n",
              "2                        Geoff Dalgas  2013-02-09T20:21:10.873   \n",
              "3                           Adam Lear  2024-03-05T20:32:42.233   \n",
              "4                               Shog9  2020-01-23T19:28:09.290   \n",
              "...                               ...                      ...   \n",
              "10492  Frank Family Law Practice spam  2024-03-28T16:59:41.040   \n",
              "10493            Hypnotherapy For You  2024-03-28T19:23:41.113   \n",
              "10494  int 21h -- Glory to Ukraine --  2024-04-06T21:13:47.347   \n",
              "10495                         spammer  2024-03-31T16:10:22.483   \n",
              "10496                Jani Koskelainen  2024-04-02T18:23:56.470   \n",
              "\n",
              "                                   WebsiteUrl  \\\n",
              "0              http://meta.stackexchange.com/   \n",
              "1                https://nickcraver.com/blog/   \n",
              "2                    http://stackoverflow.com   \n",
              "3                                        None   \n",
              "4                            http://shog9.com   \n",
              "...                                       ...   \n",
              "10492          http://www.frankfamilylaw.com/   \n",
              "10493      https://hypnotherapyforyou.com.au/   \n",
              "10494  https://ukrainianchemist.blogspot.com/   \n",
              "10495                                    None   \n",
              "10496                                    None   \n",
              "\n",
              "                                                Location  \\\n",
              "0                                     on the server farm   \n",
              "1                                      Winston-Salem, NC   \n",
              "2                                          Corvallis, OR   \n",
              "3                                           New York, NY   \n",
              "4                                      Frontier, WA, USA   \n",
              "...                                                  ...   \n",
              "10492                                               None   \n",
              "10493                  Port Macquarie NSW Australia 2444   \n",
              "10494                                             Europe   \n",
              "10495  815 Orienta Avenue, Suite 1030 Altamonte Sprin...   \n",
              "10496                                               None   \n",
              "\n",
              "                                                 AboutMe  Views  UpVotes  \\\n",
              "0      <p>Hi, I'm not really a person.</p>\\n\\n<p>I'm ...      1        0   \n",
              "1      <p>I am a Principal Software Engineer at Micro...     35        0   \n",
              "2      <p>Dev #2 who helped create Stack Overflow cur...      3        0   \n",
              "3      \\n<p>Developer at Stack Overflow focusing on p...      3        0   \n",
              "4      <p>Well, fancy seeing you here!</p>\\n<p>I work...      6        8   \n",
              "...                                                  ...    ...      ...   \n",
              "10492  <p><strong>Business Name:\\nFrank Family Law Pr...      0        0   \n",
              "10493  <p>Experience transformative hypnotherapy at H...      0        0   \n",
              "10494  <p>PhD in organic chemistry, University of Gen...      0        5   \n",
              "10495                                               None      0        0   \n",
              "10496                                               None      0        0   \n",
              "\n",
              "       DownVotes   AccountId  \n",
              "0              0        -1.0  \n",
              "1              0      7598.0  \n",
              "2              0         2.0  \n",
              "3              0     37099.0  \n",
              "4              0       620.0  \n",
              "...          ...         ...  \n",
              "10492          0  31058081.0  \n",
              "10493          0  30807805.0  \n",
              "10494          0  20507612.0  \n",
              "10495          0  31104149.0  \n",
              "10496          0  31113414.0  \n",
              "\n",
              "[10497 rows x 12 columns]>"
            ]
          },
          "execution_count": 6,
          "metadata": {},
          "output_type": "execute_result"
        }
      ],
      "source": [
        "Users = pd.read_xml(\"C:\\\\Users\\\\OYENIYI AZEEZ\\\\Downloads\\\\sustainability.stackexchange.com (1)\\\\Users.xml\")\n",
        "Users.to_csv(\"out.csv\", index=False)\n",
        "Users.head"
      ]
    },
    {
      "cell_type": "code",
      "execution_count": null,
      "id": "bb21c981-53d6-454c-853a-dc448635491e",
      "metadata": {
        "id": "bb21c981-53d6-454c-853a-dc448635491e",
        "outputId": "2e02b1c4-4bee-463e-ca17-7eb85ed1d94a"
      },
      "outputs": [
        {
          "data": {
            "text/plain": [
              "          Id  PostId  VoteTypeId             CreationDate  UserId  \\\n",
              "0          4       1           2  2013-01-29T00:00:00.000     NaN   \n",
              "1        107       1           2  2013-01-29T00:00:00.000     NaN   \n",
              "2        192       1           2  2013-01-29T00:00:00.000     NaN   \n",
              "3        239       1          16  2013-01-30T00:00:00.000     NaN   \n",
              "4        284       1           2  2013-01-30T00:00:00.000     NaN   \n",
              "...      ...     ...         ...                      ...     ...   \n",
              "36224  45914   12809           3  2024-03-30T00:00:00.000     NaN   \n",
              "36225  45915   12809           3  2024-03-30T00:00:00.000     NaN   \n",
              "36226  45916   12809           3  2024-03-30T00:00:00.000     NaN   \n",
              "36227  45917   12809           3  2024-03-30T00:00:00.000     NaN   \n",
              "36228  45918   12809          10  2024-03-30T00:00:00.000     NaN   \n",
              "\n",
              "       BountyAmount  \n",
              "0               NaN  \n",
              "1               NaN  \n",
              "2               NaN  \n",
              "3               NaN  \n",
              "4               NaN  \n",
              "...             ...  \n",
              "36224           NaN  \n",
              "36225           NaN  \n",
              "36226           NaN  \n",
              "36227           NaN  \n",
              "36228           NaN  \n",
              "\n",
              "[36229 rows x 6 columns]"
            ]
          },
          "execution_count": 7,
          "metadata": {},
          "output_type": "execute_result"
        }
      ],
      "source": [
        "Votes = pd.read_xml(\"C:\\\\Users\\\\OYENIYI AZEEZ\\\\Downloads\\\\sustainability.stackexchange.com (1)\\\\Votes.xml\")\n",
        "Votes.to_csv(\"out.csv\", index=False)\n",
        "Votes"
      ]
    },
    {
      "cell_type": "code",
      "execution_count": null,
      "id": "638c4719-6288-43c9-8a4d-40725b6dca29",
      "metadata": {
        "id": "638c4719-6288-43c9-8a4d-40725b6dca29",
        "outputId": "34b70e01-4251-4dbf-8d5b-980f35b8f6b8"
      },
      "outputs": [
        {
          "data": {
            "text/plain": [
              "          Id  UserId                  Name                     Date  Class  \\\n",
              "0         38      22               Teacher  2013-01-29T20:14:49.103      3   \n",
              "1         41      30               Teacher  2013-01-29T20:19:46.127      3   \n",
              "2         52      10               Teacher  2013-01-29T20:39:54.403      3   \n",
              "3         53      33               Teacher  2013-01-29T20:39:54.403      3   \n",
              "4         68       5               Teacher  2013-01-29T20:59:59.923      3   \n",
              "...      ...     ...                   ...                      ...    ...   \n",
              "15617  16477      99  environmental-impact  2019-12-23T04:01:27.513      3   \n",
              "15618  16482      48           electricity  2020-09-26T04:01:22.047      3   \n",
              "15619  19494      99            composting  2021-09-11T04:00:36.783      3   \n",
              "15620  19576      48               heating  2021-10-09T04:01:57.347      3   \n",
              "15621  19962      99               plastic  2022-01-03T04:01:44.270      3   \n",
              "\n",
              "       TagBased  \n",
              "0         False  \n",
              "1         False  \n",
              "2         False  \n",
              "3         False  \n",
              "4         False  \n",
              "...         ...  \n",
              "15617      True  \n",
              "15618      True  \n",
              "15619      True  \n",
              "15620      True  \n",
              "15621      True  \n",
              "\n",
              "[15622 rows x 6 columns]"
            ]
          },
          "execution_count": 8,
          "metadata": {},
          "output_type": "execute_result"
        }
      ],
      "source": [
        "Badges = pd.read_xml(\"C:\\\\Users\\\\OYENIYI AZEEZ\\\\Downloads\\\\sustainability.stackexchange.com (1)\\\\Badges.xml\")\n",
        "Badges.to_csv(\"out.csv\", index=False)\n",
        "Badges"
      ]
    },
    {
      "cell_type": "code",
      "execution_count": null,
      "id": "b91454c1-f554-47af-8a6a-a869439dad9c",
      "metadata": {
        "id": "b91454c1-f554-47af-8a6a-a869439dad9c",
        "outputId": "10fcf393-dbdf-4126-f3fd-a6cf8718f931"
      },
      "outputs": [
        {
          "data": {
            "text/plain": [
              "          Id  PostId  Score  \\\n",
              "0         35       1      4   \n",
              "1        616       1      1   \n",
              "2       2187       1      1   \n",
              "3         37       2      0   \n",
              "4       2129       4      1   \n",
              "...      ...     ...    ...   \n",
              "11088  16635   12803      0   \n",
              "11089  16636   12803      0   \n",
              "11090  16637   12803      0   \n",
              "11091  16643   12805      1   \n",
              "11092  16646   12807      0   \n",
              "\n",
              "                                                    Text  \\\n",
              "0      The real question is if it would be more effic...   \n",
              "1      @StevenRoose But for animal protein sources, a...   \n",
              "2      [Link to somewhat related answer](http://susta...   \n",
              "3      What is the difference between this and \"hunti...   \n",
              "4      From what I know staying dry isn't the issue -...   \n",
              "...                                                  ...   \n",
              "11088  do you actually know any small farmers who pro...   \n",
              "11089  I don't know grain producers, so that's why I ...   \n",
              "11090  you think a cattle farmer should plant like wa...   \n",
              "11091  Why do you think flying or being a passenger o...   \n",
              "11092  Welcome to Sustainable Living! Thank you for y...   \n",
              "\n",
              "                  CreationDate   UserId UserDisplayName  \n",
              "0      2013-01-29T21:33:48.647     62.0            None  \n",
              "1      2013-02-11T09:13:47.817    130.0            None  \n",
              "2      2013-08-11T21:56:10.710    486.0            None  \n",
              "3      2013-01-29T21:34:22.063     27.0            None  \n",
              "4      2013-07-30T01:09:13.000    659.0            None  \n",
              "...                        ...      ...             ...  \n",
              "11088  2024-03-21T20:57:57.693   1053.0            None  \n",
              "11089  2024-03-22T16:49:25.593  15022.0            None  \n",
              "11090  2024-03-22T16:57:36.113   1053.0            None  \n",
              "11091  2024-03-26T08:05:57.343     99.0            None  \n",
              "11092  2024-03-27T08:49:51.037     99.0            None  \n",
              "\n",
              "[11093 rows x 7 columns]"
            ]
          },
          "execution_count": 9,
          "metadata": {},
          "output_type": "execute_result"
        }
      ],
      "source": [
        "Comments = pd.read_xml(\"C:\\\\Users\\\\OYENIYI AZEEZ\\\\Downloads\\\\sustainability.stackexchange.com (1)\\\\Comments.xml\")\n",
        "Comments.to_csv(\"out.csv\", index=False)\n",
        "Comments"
      ]
    },
    {
      "cell_type": "code",
      "execution_count": null,
      "id": "2110cfc1-0869-40e6-9be4-76cebcbdb015",
      "metadata": {
        "id": "2110cfc1-0869-40e6-9be4-76cebcbdb015",
        "outputId": "62271ac4-a558-4f4b-f62c-28a917d5ceaa"
      },
      "outputs": [
        {
          "data": {
            "text/plain": [
              "        Id             CreationDate  PostId  RelatedPostId  LinkTypeId\n",
              "0     9125  2013-08-11T21:56:10.710       1            832           1\n",
              "1    12004  2013-12-31T05:07:56.313       7             38           1\n",
              "2    12018  2013-12-31T14:42:36.087       7            882           1\n",
              "3    27895  2016-05-12T08:48:16.663       7           1262           1\n",
              "4     7060  2013-04-21T22:27:56.487      10             38           1\n",
              "..     ...                      ...     ...            ...         ...\n",
              "595  89473  2023-05-06T14:02:22.440   12566          10188           1\n",
              "596  90559  2023-07-12T17:49:12.507   12609           5234           1\n",
              "597  90561  2023-07-13T04:36:27.153   12612           2713           1\n",
              "598  91049  2023-07-30T07:13:13.190   12632          11871           1\n",
              "599  92394  2023-11-22T20:43:16.223   12734           3190           1\n",
              "\n",
              "[600 rows x 5 columns]"
            ]
          },
          "execution_count": 10,
          "metadata": {},
          "output_type": "execute_result"
        }
      ],
      "source": [
        "PostLinks = pd.read_xml(\"C:\\\\Users\\\\OYENIYI AZEEZ\\\\Downloads\\\\sustainability.stackexchange.com (1)\\\\PostLinks.xml\")\n",
        "PostLinks.to_csv(\"out.csv\", index=False)\n",
        "PostLinks"
      ]
    },
    {
      "cell_type": "code",
      "execution_count": null,
      "id": "f5eb3bbe-dba5-44f4-b4df-bf8a4413bd8a",
      "metadata": {
        "id": "f5eb3bbe-dba5-44f4-b4df-bf8a4413bd8a",
        "outputId": "b52d468f-10c2-4a07-fe03-49b5a578f226"
      },
      "outputs": [
        {
          "data": {
            "text/plain": [
              "   Id  PostTypeId  AcceptedAnswerId             CreationDate  Score  \\\n",
              "0   1           1             510.0  2013-01-29T19:29:48.110     18   \n",
              "1   2           1              58.0  2013-01-29T19:34:11.153     14   \n",
              "2   3           1              22.0  2013-01-29T19:39:27.800     12   \n",
              "\n",
              "   ViewCount                                               Body  OwnerUserId  \\\n",
              "0      741.0  <p>Grasshoppers are a valuable source of prote...          5.0   \n",
              "1      242.0  <p>Forests are the great producers of oxygen, ...          5.0   \n",
              "2       92.0  <p>Snails are good source of proteins. How muc...          5.0   \n",
              "\n",
              "   LastEditorUserId             LastEditDate  ...  \\\n",
              "0               3.0  2013-01-30T02:13:46.767  ...   \n",
              "1              45.0  2013-07-26T04:34:21.073  ...   \n",
              "2               NaN                     None  ...   \n",
              "\n",
              "                                           Tags AnswerCount CommentCount  \\\n",
              "0                      |husbandry|food|insects|         1.0            3   \n",
              "1  |food|permaculture|animals|husbandry|fodder|         2.0            1   \n",
              "2                     |husbandry|food|mollusca|         1.0            0   \n",
              "\n",
              "   ContentLicense  FavoriteCount ParentId  ClosedDate  LastEditorDisplayName  \\\n",
              "0    CC BY-SA 3.0            NaN      NaN        None                   None   \n",
              "1    CC BY-SA 3.0            NaN      NaN        None                   None   \n",
              "2    CC BY-SA 3.0            NaN      NaN        None                   None   \n",
              "\n",
              "  CommunityOwnedDate OwnerDisplayName  \n",
              "0               None             None  \n",
              "1               None             None  \n",
              "2               None             None  \n",
              "\n",
              "[3 rows x 22 columns]"
            ]
          },
          "execution_count": 11,
          "metadata": {},
          "output_type": "execute_result"
        }
      ],
      "source": [
        "Posts = pd.read_xml(\"C:\\\\Users\\\\OYENIYI AZEEZ\\\\Downloads\\\\sustainability.stackexchange.com (1)\\\\Posts.xml\")\n",
        "Posts.to_csv(\"out.csv\", index=False)\n",
        "Posts.head(3)"
      ]
    },
    {
      "cell_type": "code",
      "execution_count": null,
      "id": "839c1ec8-5351-405e-902f-1f760c77cf54",
      "metadata": {
        "id": "839c1ec8-5351-405e-902f-1f760c77cf54",
        "outputId": "87b4ed4d-e37f-4e0e-c846-8b57df24681f"
      },
      "outputs": [
        {
          "data": {
            "text/plain": [
              "   Id  PostHistoryTypeId  PostId                          RevisionGUID  \\\n",
              "0   1                  2       1  31f0420d-7e35-43d6-be08-bc7a388051dd   \n",
              "1   2                  1       1  31f0420d-7e35-43d6-be08-bc7a388051dd   \n",
              "2   3                  3       1  31f0420d-7e35-43d6-be08-bc7a388051dd   \n",
              "\n",
              "              CreationDate  UserId  \\\n",
              "0  2013-01-29T19:29:48.110     5.0   \n",
              "1  2013-01-29T19:29:48.110     5.0   \n",
              "2  2013-01-29T19:29:48.110     5.0   \n",
              "\n",
              "                                                Text ContentLicense Comment  \\\n",
              "0  Grasshoppers are valuable source of proteins, ...   CC BY-SA 3.0    None   \n",
              "1  How much area do I need for colony of grasshoo...   CC BY-SA 3.0    None   \n",
              "2                           |husbandry|food|insects|   CC BY-SA 3.0    None   \n",
              "\n",
              "  UserDisplayName  \n",
              "0            None  \n",
              "1            None  \n",
              "2            None  "
            ]
          },
          "execution_count": 12,
          "metadata": {},
          "output_type": "execute_result"
        }
      ],
      "source": [
        "PostHistory = pd.read_xml(\"C:\\\\Users\\\\OYENIYI AZEEZ\\\\Downloads\\\\sustainability.stackexchange.com (1)\\\\PostHistory.xml\")\n",
        "PostHistory.to_csv(\"out.csv\", index=False)\n",
        "PostHistory.head(3)"
      ]
    },
    {
      "cell_type": "code",
      "execution_count": null,
      "id": "af7f0399-8c96-4768-8021-8c977246275d",
      "metadata": {
        "id": "af7f0399-8c96-4768-8021-8c977246275d",
        "outputId": "967a9a99-3d9f-4a97-ce0a-9ebf281ec3b9"
      },
      "outputs": [
        {
          "data": {
            "text/plain": [
              "20321"
            ]
          },
          "execution_count": 13,
          "metadata": {},
          "output_type": "execute_result"
        }
      ],
      "source": [
        "conn = sqlite3.connect(\"/temp/example.db\") # conn.close()\n",
        "Tags.to_sql(\"Tags\", conn, index=False, if_exists=\"replace\")\n",
        "Users.to_sql(\"Users\", conn, index=False, if_exists=\"replace\")\n",
        "Votes.to_sql(\"Votes\", conn, index=False, if_exists=\"replace\")\n",
        "Badges.to_sql(\"Badges\", conn, index=False, if_exists=\"replace\")\n",
        "Comments.to_sql(\"Comments\", conn, index=False, if_exists=\"replace\")\n",
        "PostLinks.to_sql(\"PostLinks\", conn, index=False, if_exists=\"replace\")\n",
        "Posts.to_sql(\"Posts\", conn, index=False, if_exists=\"replace\")\n",
        "PostHistory.to_sql(\"PostHistory\", conn, index=False, if_exists=\"replace\")"
      ]
    },
    {
      "cell_type": "code",
      "execution_count": null,
      "id": "47e90f16-5d8d-49d1-bbf3-1430028ce739",
      "metadata": {
        "id": "47e90f16-5d8d-49d1-bbf3-1430028ce739",
        "outputId": "d0119bb3-7f62-4de7-b110-e268d129ef77"
      },
      "outputs": [
        {
          "data": {
            "text/plain": [
              "                   TagName  Count  OwnerUserId  \\\n",
              "0              solar-power    189         -1.0   \n",
              "1              solar-power    189         -1.0   \n",
              "2                   energy    151         -1.0   \n",
              "3                   energy    151         -1.0   \n",
              "4        energy-efficiency    133         -1.0   \n",
              "5        energy-efficiency    133         -1.0   \n",
              "6              electricity    127         -1.0   \n",
              "7              electricity    127         -1.0   \n",
              "8                    water    110         -1.0   \n",
              "9                    water    110         -1.0   \n",
              "10  electricity-generation     74         -1.0   \n",
              "11  electricity-generation     74         -1.0   \n",
              "12                     diy     50         -1.0   \n",
              "13                     diy     50         -1.0   \n",
              "14              wind-power     45         -1.0   \n",
              "\n",
              "                                                 Body DisplayName  \\\n",
              "0   <p>Solar power is electric energy produced fro...   Community   \n",
              "1   <p>Solar power is electric energy produced fro...   Community   \n",
              "2   <p>Energy is the ability to do work and/or pro...   Community   \n",
              "3   <p>Energy is the ability to do work and/or pro...   Community   \n",
              "4                                                None   Community   \n",
              "5                                                None   Community   \n",
              "6                                                None   Community   \n",
              "7                                                None   Community   \n",
              "8   <p>Chemical formula: H<sub>2</sub>O</p>\\n\\n<p>...   Community   \n",
              "9   <p>Chemical formula: H<sub>2</sub>O</p>\\n\\n<p>...   Community   \n",
              "10                                               None   Community   \n",
              "11                                               None   Community   \n",
              "12  <p>DIY (Do-It-Yourself) and home improvements:...   Community   \n",
              "13  <p>DIY (Do-It-Yourself) and home improvements:...   Community   \n",
              "14                                               None   Community   \n",
              "\n",
              "              Location                                               Text  \n",
              "0   on the server farm  What is the typical temperature ranges from se...  \n",
              "1   on the server farm  Winter weather varies depending on climate. La...  \n",
              "2   on the server farm  What is the typical temperature ranges from se...  \n",
              "3   on the server farm  Winter weather varies depending on climate. La...  \n",
              "4   on the server farm  What is the typical temperature ranges from se...  \n",
              "5   on the server farm  Winter weather varies depending on climate. La...  \n",
              "6   on the server farm  What is the typical temperature ranges from se...  \n",
              "7   on the server farm  Winter weather varies depending on climate. La...  \n",
              "8   on the server farm  What is the typical temperature ranges from se...  \n",
              "9   on the server farm  Winter weather varies depending on climate. La...  \n",
              "10  on the server farm  What is the typical temperature ranges from se...  \n",
              "11  on the server farm  Winter weather varies depending on climate. La...  \n",
              "12  on the server farm  What is the typical temperature ranges from se...  \n",
              "13  on the server farm  Winter weather varies depending on climate. La...  \n",
              "14  on the server farm  What is the typical temperature ranges from se...  "
            ]
          },
          "execution_count": 14,
          "metadata": {},
          "output_type": "execute_result"
        }
      ],
      "source": [
        "Tags_UPC = pd.read_sql_query(\"\"\"\n",
        "SELECT\n",
        "    Tags.TagName,\n",
        "    Tags.Count,\n",
        "    Posts.OwnerUserId,\n",
        "    Posts.Body,\n",
        "    Users.DisplayName,\n",
        "    Users.Location,\n",
        "    Comments.Text\n",
        "FROM\n",
        "    Tags\n",
        "JOIN\n",
        "    Posts ON Posts.Id = Tags.WikiPostId\n",
        "JOIN\n",
        "    Users ON Users.AccountId = Posts.OwnerUserId\n",
        "JOIN\n",
        "    Comments ON Posts.PostTypeId = Comments.PostId\n",
        "ORDER BY\n",
        "    Tags.Count DESC\n",
        "LIMIT 15\n",
        "\"\"\", conn)\n",
        "Tags_UPC"
      ]
    },
    {
      "cell_type": "code",
      "execution_count": null,
      "id": "1fbbc189-16bb-4ceb-96e4-d0e5d7eee800",
      "metadata": {
        "id": "1fbbc189-16bb-4ceb-96e4-d0e5d7eee800",
        "outputId": "4d0fac7c-f5c2-4cc5-86cc-3653129ccb8b"
      },
      "outputs": [
        {
          "data": {
            "text/plain": [
              "VoteTypeId\n",
              "2     30829\n",
              "3      2373\n",
              "1       923\n",
              "10      639\n",
              "16      615\n",
              "15      577\n",
              "6        93\n",
              "12       71\n",
              "8        38\n",
              "9        38\n",
              "11       18\n",
              "4         8\n",
              "7         7\n",
              "Name: count, dtype: int64"
            ]
          },
          "execution_count": 15,
          "metadata": {},
          "output_type": "execute_result"
        }
      ],
      "source": [
        "Votes[\"VoteTypeId\"].value_counts()"
      ]
    },
    {
      "cell_type": "code",
      "execution_count": null,
      "id": "90ba4aa9-60dd-46a5-b7ed-c18723ebc93c",
      "metadata": {
        "id": "90ba4aa9-60dd-46a5-b7ed-c18723ebc93c",
        "outputId": "2e88378f-ef16-4047-ed07-2accb918e14d"
      },
      "outputs": [
        {
          "data": {
            "text/plain": [
              "                                                      Location  \\\n",
              "DisplayName                                                      \n",
              "jkj                                                    Finland   \n",
              "410 gone                                                     0   \n",
              "Spammer      WASILAWarsaw, Poland3 Moorebank Avenue, Mooreb...   \n",
              "Earthliŋ                                                     0   \n",
              "THelper                                        The Netherlands   \n",
              "\n",
              "                                                  CreationDate  \\\n",
              "DisplayName                                                      \n",
              "jkj                                    2013-01-29T20:32:27.697   \n",
              "410 gone                               2013-01-29T20:50:12.060   \n",
              "Spammer      2013-07-23T06:34:37.0772013-11-25T06:24:13.123...   \n",
              "Earthliŋ                               2013-01-30T01:24:11.583   \n",
              "THelper                                2013-01-30T07:45:14.157   \n",
              "\n",
              "                                                LastAccessDate  Views  \\\n",
              "DisplayName                                                             \n",
              "jkj                                    2018-09-22T04:54:22.373    352   \n",
              "410 gone                               2020-03-05T03:33:53.993    269   \n",
              "Spammer      2013-07-31T05:44:44.7102013-11-25T06:40:44.937...    209   \n",
              "Earthliŋ                               2023-07-10T03:51:32.437    186   \n",
              "THelper                                2024-04-02T14:38:04.940    181   \n",
              "\n",
              "             UpVotes  DownVotes  \n",
              "DisplayName                      \n",
              "jkj                6          0  \n",
              "410 gone        1309        103  \n",
              "Spammer            0          0  \n",
              "Earthliŋ         690         20  \n",
              "THelper         1999        289  "
            ]
          },
          "execution_count": 16,
          "metadata": {},
          "output_type": "execute_result"
        }
      ],
      "source": [
        "Users[['DisplayName', 'Location', 'CreationDate', 'LastAccessDate', 'Views', 'UpVotes', 'DownVotes']].drop_duplicates().groupby(['DisplayName']).sum().sort_values(by='Views', ascending=False).head(5)"
      ]
    },
    {
      "cell_type": "code",
      "execution_count": null,
      "id": "5b78878b-a902-4450-9384-6e4ecc4aed02",
      "metadata": {
        "id": "5b78878b-a902-4450-9384-6e4ecc4aed02",
        "outputId": "fcbce112-07c2-4d18-d9e8-2d1aa104a282"
      },
      "outputs": [
        {
          "data": {
            "text/html": [
              "\n",
              "        <iframe\n",
              "            width=\"800\"\n",
              "            height=\"600\"\n",
              "            src=\"world_map.html\"\n",
              "            frameborder=\"0\"\n",
              "            allowfullscreen\n",
              "            \n",
              "        ></iframe>\n",
              "        "
            ],
            "text/plain": [
              "<IPython.lib.display.IFrame at 0x1e291174c20>"
            ]
          },
          "execution_count": 17,
          "metadata": {},
          "output_type": "execute_result"
        }
      ],
      "source": [
        "# Create a map object\n",
        "m = folium.Map(location=[20, 0], zoom_start=2)\n",
        "\n",
        "# Iterate over the rows in the DataFrame\n",
        "for index, row in Users.iterrows():\n",
        "    # Extract the location information\n",
        "    location = row['Location']\n",
        "\n",
        "    # Check if the location is not None or empty\n",
        "    if location is not None and location != '':\n",
        "        # Check if the location is a string\n",
        "        if isinstance(location, str):\n",
        "            # Try to split the location into latitude and longitude\n",
        "            try:\n",
        "                lat, lon = location.split(', ')\n",
        "                lat, lon = float(lat), float(lon)\n",
        "\n",
        "                # Add a marker to the map\n",
        "                folium.Marker([lat, lon], popup=row['DisplayName']).add_to(m)\n",
        "            except ValueError:\n",
        "                # If the location is not in the correct format, skip it\n",
        "                pass\n",
        "        else:\n",
        "            # If the location is already numeric, skip it\n",
        "            pass\n",
        "\n",
        "# Save the map to an HTML file\n",
        "m.save('world_map.html')\n",
        "\n",
        "# Display the map in the notebook\n",
        "IFrame(src='world_map.html', width=800, height=600)"
      ]
    },
    {
      "cell_type": "code",
      "execution_count": null,
      "id": "8f3ebf9d-b311-47f4-b348-c5cb0f357fdb",
      "metadata": {
        "id": "8f3ebf9d-b311-47f4-b348-c5cb0f357fdb",
        "outputId": "2839b143-07a1-4508-9528-5a0fec28c91b"
      },
      "outputs": [
        {
          "name": "stderr",
          "output_type": "stream",
          "text": [
            "[nltk_data] Error loading stopwords: <urlopen error [WinError 10060] A\n",
            "[nltk_data]     connection attempt failed because the connected party\n",
            "[nltk_data]     did not properly respond after a period of time, or\n",
            "[nltk_data]     established connection failed because connected host\n",
            "[nltk_data]     has failed to respond>\n"
          ]
        },
        {
          "data": {
            "text/plain": [
              "False"
            ]
          },
          "execution_count": 18,
          "metadata": {},
          "output_type": "execute_result"
        }
      ],
      "source": [
        "import nltk\n",
        "import ssl\n",
        "\n",
        "try:\n",
        "    _create_unverified_https_context = ssl._create_unverified_context\n",
        "except AttributeError:\n",
        "    pass\n",
        "else:\n",
        "    ssl._create_default_https_context = _create_unverified_https_context\n",
        "\n",
        "nltk.download('stopwords')"
      ]
    },
    {
      "cell_type": "code",
      "execution_count": null,
      "id": "9ff2e6b7-9ee4-490a-bcf3-3c34548c04de",
      "metadata": {
        "id": "9ff2e6b7-9ee4-490a-bcf3-3c34548c04de",
        "outputId": "2bc39c91-4287-4a27-fe68-0a824caaff6b"
      },
      "outputs": [
        {
          "name": "stderr",
          "output_type": "stream",
          "text": [
            "[nltk_data] Error loading stopwords: <urlopen error [WinError 10060] A\n",
            "[nltk_data]     connection attempt failed because the connected party\n",
            "[nltk_data]     did not properly respond after a period of time, or\n",
            "[nltk_data]     established connection failed because connected host\n",
            "[nltk_data]     has failed to respond>\n"
          ]
        },
        {
          "data": {
            "text/plain": [
              "False"
            ]
          },
          "execution_count": 19,
          "metadata": {},
          "output_type": "execute_result"
        }
      ],
      "source": [
        "import nltk\n",
        "import ssl\n",
        "\n",
        "try:\n",
        "    _create_unverified_https_context = ssl._create_unverified_context\n",
        "except AttributeError:\n",
        "    pass\n",
        "else:\n",
        "    ssl._create_default_https_context = _create_unverified_https_context\n",
        "\n",
        "nltk.download('stopwords')"
      ]
    },
    {
      "cell_type": "code",
      "execution_count": null,
      "id": "df939bab-c8ee-448d-a497-99355476ef87",
      "metadata": {
        "scrolled": true,
        "id": "df939bab-c8ee-448d-a497-99355476ef87",
        "outputId": "6aa3e743-ca34-4d98-b259-ee88f425dddf"
      },
      "outputs": [
        {
          "ename": "LookupError",
          "evalue": "\n**********************************************************************\n  Resource \u001b[93mstopwords\u001b[0m not found.\n  Please use the NLTK Downloader to obtain the resource:\n\n  \u001b[31m>>> import nltk\n  >>> nltk.download('stopwords')\n  \u001b[0m\n  For more information see: https://www.nltk.org/data.html\n\n  Attempted to load \u001b[93mcorpora/stopwords\u001b[0m\n\n  Searched in:\n    - 'C:\\\\Users\\\\OYENIYI AZEEZ/nltk_data'\n    - 'C:\\\\Users\\\\OYENIYI AZEEZ\\\\anaconda3\\\\nltk_data'\n    - 'C:\\\\Users\\\\OYENIYI AZEEZ\\\\anaconda3\\\\share\\\\nltk_data'\n    - 'C:\\\\Users\\\\OYENIYI AZEEZ\\\\anaconda3\\\\lib\\\\nltk_data'\n    - 'C:\\\\Users\\\\OYENIYI AZEEZ\\\\AppData\\\\Roaming\\\\nltk_data'\n    - 'C:\\\\nltk_data'\n    - 'D:\\\\nltk_data'\n    - 'E:\\\\nltk_data'\n**********************************************************************\n",
          "output_type": "error",
          "traceback": [
            "\u001b[1;31m---------------------------------------------------------------------------\u001b[0m",
            "\u001b[1;31mLookupError\u001b[0m                               Traceback (most recent call last)",
            "File \u001b[1;32m~\\anaconda3\\Lib\\site-packages\\nltk\\corpus\\util.py:84\u001b[0m, in \u001b[0;36mLazyCorpusLoader.__load\u001b[1;34m(self)\u001b[0m\n\u001b[0;32m     83\u001b[0m \u001b[38;5;28;01mtry\u001b[39;00m:\n\u001b[1;32m---> 84\u001b[0m     root \u001b[38;5;241m=\u001b[39m nltk\u001b[38;5;241m.\u001b[39mdata\u001b[38;5;241m.\u001b[39mfind(\u001b[38;5;124mf\u001b[39m\u001b[38;5;124m\"\u001b[39m\u001b[38;5;132;01m{\u001b[39;00m\u001b[38;5;28mself\u001b[39m\u001b[38;5;241m.\u001b[39msubdir\u001b[38;5;132;01m}\u001b[39;00m\u001b[38;5;124m/\u001b[39m\u001b[38;5;132;01m{\u001b[39;00mzip_name\u001b[38;5;132;01m}\u001b[39;00m\u001b[38;5;124m\"\u001b[39m)\n\u001b[0;32m     85\u001b[0m \u001b[38;5;28;01mexcept\u001b[39;00m \u001b[38;5;167;01mLookupError\u001b[39;00m:\n",
            "File \u001b[1;32m~\\anaconda3\\Lib\\site-packages\\nltk\\data.py:583\u001b[0m, in \u001b[0;36mfind\u001b[1;34m(resource_name, paths)\u001b[0m\n\u001b[0;32m    582\u001b[0m resource_not_found \u001b[38;5;241m=\u001b[39m \u001b[38;5;124mf\u001b[39m\u001b[38;5;124m\"\u001b[39m\u001b[38;5;130;01m\\n\u001b[39;00m\u001b[38;5;132;01m{\u001b[39;00msep\u001b[38;5;132;01m}\u001b[39;00m\u001b[38;5;130;01m\\n\u001b[39;00m\u001b[38;5;132;01m{\u001b[39;00mmsg\u001b[38;5;132;01m}\u001b[39;00m\u001b[38;5;130;01m\\n\u001b[39;00m\u001b[38;5;132;01m{\u001b[39;00msep\u001b[38;5;132;01m}\u001b[39;00m\u001b[38;5;130;01m\\n\u001b[39;00m\u001b[38;5;124m\"\u001b[39m\n\u001b[1;32m--> 583\u001b[0m \u001b[38;5;28;01mraise\u001b[39;00m \u001b[38;5;167;01mLookupError\u001b[39;00m(resource_not_found)\n",
            "\u001b[1;31mLookupError\u001b[0m: \n**********************************************************************\n  Resource \u001b[93mstopwords\u001b[0m not found.\n  Please use the NLTK Downloader to obtain the resource:\n\n  \u001b[31m>>> import nltk\n  >>> nltk.download('stopwords')\n  \u001b[0m\n  For more information see: https://www.nltk.org/data.html\n\n  Attempted to load \u001b[93mcorpora/stopwords.zip/stopwords/\u001b[0m\n\n  Searched in:\n    - 'C:\\\\Users\\\\OYENIYI AZEEZ/nltk_data'\n    - 'C:\\\\Users\\\\OYENIYI AZEEZ\\\\anaconda3\\\\nltk_data'\n    - 'C:\\\\Users\\\\OYENIYI AZEEZ\\\\anaconda3\\\\share\\\\nltk_data'\n    - 'C:\\\\Users\\\\OYENIYI AZEEZ\\\\anaconda3\\\\lib\\\\nltk_data'\n    - 'C:\\\\Users\\\\OYENIYI AZEEZ\\\\AppData\\\\Roaming\\\\nltk_data'\n    - 'C:\\\\nltk_data'\n    - 'D:\\\\nltk_data'\n    - 'E:\\\\nltk_data'\n**********************************************************************\n",
            "\nDuring handling of the above exception, another exception occurred:\n",
            "\u001b[1;31mLookupError\u001b[0m                               Traceback (most recent call last)",
            "Cell \u001b[1;32mIn[20], line 4\u001b[0m\n\u001b[0;32m      2\u001b[0m \u001b[38;5;28;01mfrom\u001b[39;00m \u001b[38;5;21;01mnltk\u001b[39;00m\u001b[38;5;21;01m.\u001b[39;00m\u001b[38;5;21;01mcorpus\u001b[39;00m \u001b[38;5;28;01mimport\u001b[39;00m stopwords\n\u001b[0;32m      3\u001b[0m \u001b[38;5;28;01mimport\u001b[39;00m \u001b[38;5;21;01mre\u001b[39;00m\n\u001b[1;32m----> 4\u001b[0m stop_words \u001b[38;5;241m=\u001b[39m \u001b[38;5;28mset\u001b[39m(stopwords\u001b[38;5;241m.\u001b[39mwords(\u001b[38;5;124m\"\u001b[39m\u001b[38;5;124menglish\u001b[39m\u001b[38;5;124m\"\u001b[39m))\n\u001b[0;32m      5\u001b[0m stop_words\n",
            "File \u001b[1;32m~\\anaconda3\\Lib\\site-packages\\nltk\\corpus\\util.py:121\u001b[0m, in \u001b[0;36mLazyCorpusLoader.__getattr__\u001b[1;34m(self, attr)\u001b[0m\n\u001b[0;32m    118\u001b[0m \u001b[38;5;28;01mif\u001b[39;00m attr \u001b[38;5;241m==\u001b[39m \u001b[38;5;124m\"\u001b[39m\u001b[38;5;124m__bases__\u001b[39m\u001b[38;5;124m\"\u001b[39m:\n\u001b[0;32m    119\u001b[0m     \u001b[38;5;28;01mraise\u001b[39;00m \u001b[38;5;167;01mAttributeError\u001b[39;00m(\u001b[38;5;124m\"\u001b[39m\u001b[38;5;124mLazyCorpusLoader object has no attribute \u001b[39m\u001b[38;5;124m'\u001b[39m\u001b[38;5;124m__bases__\u001b[39m\u001b[38;5;124m'\u001b[39m\u001b[38;5;124m\"\u001b[39m)\n\u001b[1;32m--> 121\u001b[0m \u001b[38;5;28mself\u001b[39m\u001b[38;5;241m.\u001b[39m__load()\n\u001b[0;32m    122\u001b[0m \u001b[38;5;66;03m# This looks circular, but its not, since __load() changes our\u001b[39;00m\n\u001b[0;32m    123\u001b[0m \u001b[38;5;66;03m# __class__ to something new:\u001b[39;00m\n\u001b[0;32m    124\u001b[0m \u001b[38;5;28;01mreturn\u001b[39;00m \u001b[38;5;28mgetattr\u001b[39m(\u001b[38;5;28mself\u001b[39m, attr)\n",
            "File \u001b[1;32m~\\anaconda3\\Lib\\site-packages\\nltk\\corpus\\util.py:86\u001b[0m, in \u001b[0;36mLazyCorpusLoader.__load\u001b[1;34m(self)\u001b[0m\n\u001b[0;32m     84\u001b[0m             root \u001b[38;5;241m=\u001b[39m nltk\u001b[38;5;241m.\u001b[39mdata\u001b[38;5;241m.\u001b[39mfind(\u001b[38;5;124mf\u001b[39m\u001b[38;5;124m\"\u001b[39m\u001b[38;5;132;01m{\u001b[39;00m\u001b[38;5;28mself\u001b[39m\u001b[38;5;241m.\u001b[39msubdir\u001b[38;5;132;01m}\u001b[39;00m\u001b[38;5;124m/\u001b[39m\u001b[38;5;132;01m{\u001b[39;00mzip_name\u001b[38;5;132;01m}\u001b[39;00m\u001b[38;5;124m\"\u001b[39m)\n\u001b[0;32m     85\u001b[0m         \u001b[38;5;28;01mexcept\u001b[39;00m \u001b[38;5;167;01mLookupError\u001b[39;00m:\n\u001b[1;32m---> 86\u001b[0m             \u001b[38;5;28;01mraise\u001b[39;00m e\n\u001b[0;32m     88\u001b[0m \u001b[38;5;66;03m# Load the corpus.\u001b[39;00m\n\u001b[0;32m     89\u001b[0m corpus \u001b[38;5;241m=\u001b[39m \u001b[38;5;28mself\u001b[39m\u001b[38;5;241m.\u001b[39m__reader_cls(root, \u001b[38;5;241m*\u001b[39m\u001b[38;5;28mself\u001b[39m\u001b[38;5;241m.\u001b[39m__args, \u001b[38;5;241m*\u001b[39m\u001b[38;5;241m*\u001b[39m\u001b[38;5;28mself\u001b[39m\u001b[38;5;241m.\u001b[39m__kwargs)\n",
            "File \u001b[1;32m~\\anaconda3\\Lib\\site-packages\\nltk\\corpus\\util.py:81\u001b[0m, in \u001b[0;36mLazyCorpusLoader.__load\u001b[1;34m(self)\u001b[0m\n\u001b[0;32m     79\u001b[0m \u001b[38;5;28;01melse\u001b[39;00m:\n\u001b[0;32m     80\u001b[0m     \u001b[38;5;28;01mtry\u001b[39;00m:\n\u001b[1;32m---> 81\u001b[0m         root \u001b[38;5;241m=\u001b[39m nltk\u001b[38;5;241m.\u001b[39mdata\u001b[38;5;241m.\u001b[39mfind(\u001b[38;5;124mf\u001b[39m\u001b[38;5;124m\"\u001b[39m\u001b[38;5;132;01m{\u001b[39;00m\u001b[38;5;28mself\u001b[39m\u001b[38;5;241m.\u001b[39msubdir\u001b[38;5;132;01m}\u001b[39;00m\u001b[38;5;124m/\u001b[39m\u001b[38;5;132;01m{\u001b[39;00m\u001b[38;5;28mself\u001b[39m\u001b[38;5;241m.\u001b[39m__name\u001b[38;5;132;01m}\u001b[39;00m\u001b[38;5;124m\"\u001b[39m)\n\u001b[0;32m     82\u001b[0m     \u001b[38;5;28;01mexcept\u001b[39;00m \u001b[38;5;167;01mLookupError\u001b[39;00m \u001b[38;5;28;01mas\u001b[39;00m e:\n\u001b[0;32m     83\u001b[0m         \u001b[38;5;28;01mtry\u001b[39;00m:\n",
            "File \u001b[1;32m~\\anaconda3\\Lib\\site-packages\\nltk\\data.py:583\u001b[0m, in \u001b[0;36mfind\u001b[1;34m(resource_name, paths)\u001b[0m\n\u001b[0;32m    581\u001b[0m sep \u001b[38;5;241m=\u001b[39m \u001b[38;5;124m\"\u001b[39m\u001b[38;5;124m*\u001b[39m\u001b[38;5;124m\"\u001b[39m \u001b[38;5;241m*\u001b[39m \u001b[38;5;241m70\u001b[39m\n\u001b[0;32m    582\u001b[0m resource_not_found \u001b[38;5;241m=\u001b[39m \u001b[38;5;124mf\u001b[39m\u001b[38;5;124m\"\u001b[39m\u001b[38;5;130;01m\\n\u001b[39;00m\u001b[38;5;132;01m{\u001b[39;00msep\u001b[38;5;132;01m}\u001b[39;00m\u001b[38;5;130;01m\\n\u001b[39;00m\u001b[38;5;132;01m{\u001b[39;00mmsg\u001b[38;5;132;01m}\u001b[39;00m\u001b[38;5;130;01m\\n\u001b[39;00m\u001b[38;5;132;01m{\u001b[39;00msep\u001b[38;5;132;01m}\u001b[39;00m\u001b[38;5;130;01m\\n\u001b[39;00m\u001b[38;5;124m\"\u001b[39m\n\u001b[1;32m--> 583\u001b[0m \u001b[38;5;28;01mraise\u001b[39;00m \u001b[38;5;167;01mLookupError\u001b[39;00m(resource_not_found)\n",
            "\u001b[1;31mLookupError\u001b[0m: \n**********************************************************************\n  Resource \u001b[93mstopwords\u001b[0m not found.\n  Please use the NLTK Downloader to obtain the resource:\n\n  \u001b[31m>>> import nltk\n  >>> nltk.download('stopwords')\n  \u001b[0m\n  For more information see: https://www.nltk.org/data.html\n\n  Attempted to load \u001b[93mcorpora/stopwords\u001b[0m\n\n  Searched in:\n    - 'C:\\\\Users\\\\OYENIYI AZEEZ/nltk_data'\n    - 'C:\\\\Users\\\\OYENIYI AZEEZ\\\\anaconda3\\\\nltk_data'\n    - 'C:\\\\Users\\\\OYENIYI AZEEZ\\\\anaconda3\\\\share\\\\nltk_data'\n    - 'C:\\\\Users\\\\OYENIYI AZEEZ\\\\anaconda3\\\\lib\\\\nltk_data'\n    - 'C:\\\\Users\\\\OYENIYI AZEEZ\\\\AppData\\\\Roaming\\\\nltk_data'\n    - 'C:\\\\nltk_data'\n    - 'D:\\\\nltk_data'\n    - 'E:\\\\nltk_data'\n**********************************************************************\n"
          ]
        }
      ],
      "source": [
        "# Removing stopwords\n",
        "from nltk.corpus import stopwords\n",
        "import re\n",
        "stop_words = set(stopwords.words(\"english\"))\n",
        "stop_words"
      ]
    },
    {
      "cell_type": "code",
      "execution_count": null,
      "id": "4ffb09a1-250e-41b4-9c18-c497f024fb5c",
      "metadata": {
        "id": "4ffb09a1-250e-41b4-9c18-c497f024fb5c"
      },
      "outputs": [],
      "source": [
        "# Creaye and generate a word cloud image\n",
        "wordcloud = wordcloud(background_color=\"black\",\n",
        "                     colormap=\"greens\",\n",
        "                     stopwords= stop_words,\n",
        "                     max_words=50,\n",
        "                     max_font_size=60,\n",
        "                     random_state=420).generate(str(corpue))\n",
        "\n",
        "prin(wordcloud)\n",
        "fig = plt.figure(1)\n",
        "plt.imshow(wordcloud)\n",
        "plt.axis(\"off\")\n",
        "plt.show()\n",
        "fig.savefig(\"word1.png\", dpi=900)"
      ]
    },
    {
      "cell_type": "markdown",
      "id": "ad92c482-eb51-4355-b81d-470a5fdf5af7",
      "metadata": {
        "id": "ad92c482-eb51-4355-b81d-470a5fdf5af7"
      },
      "source": []
    },
    {
      "cell_type": "code",
      "execution_count": null,
      "id": "82041daa-a04b-4139-8e7f-9a25d55824bb",
      "metadata": {
        "id": "82041daa-a04b-4139-8e7f-9a25d55824bb"
      },
      "outputs": [],
      "source": [
        "from sklearn.feature_extraction.text import Tfidfvectorizer\n",
        "\n",
        "# Fit the tf.idf model\n",
        "tfy = Tfidfvectorizer(stopwords = stop_words,\n",
        "                     ngram_range =(1,3),\n",
        "                      min_df = 0.001)"
      ]
    },
    {
      "cell_type": "code",
      "execution_count": null,
      "id": "8f34cb02-c5ba-40a5-abb4-d0d1cf4a4ca8",
      "metadata": {
        "id": "8f34cb02-c5ba-40a5-abb4-d0d1cf4a4ca8"
      },
      "outputs": [],
      "source": [
        "# Remove sparcity\n",
        "dense = tfmat.todense()"
      ]
    },
    {
      "cell_type": "code",
      "execution_count": null,
      "id": "e866429e-6177-4498-a5e2-57de702dffbf",
      "metadata": {
        "id": "e866429e-6177-4498-a5e2-57de702dffbf"
      },
      "outputs": [],
      "source": [
        "# Convert the matrix to a list\n",
        "corpus1 = dense[0].tolist()[0]"
      ]
    },
    {
      "cell_type": "code",
      "execution_count": null,
      "id": "fc787a7c-ab8a-402e-b540-bdc86409ac92",
      "metadata": {
        "id": "fc787a7c-ab8a-402e-b540-bdc86409ac92"
      },
      "outputs": [],
      "source": [
        "# Create alist of feature number and tf idf score using pair iteration in list\n",
        "phrase_scores = [pair for pair in zip(range(0, len(corpus1)), corpus1) if pair[1] > 0]\n",
        "phrase_scores"
      ]
    },
    {
      "cell_type": "code",
      "execution_count": null,
      "id": "4143d4ad-fcd1-43f5-9a2d-344ebfbf15be",
      "metadata": {
        "id": "4143d4ad-fcd1-43f5-9a2d-344ebfbf15be"
      },
      "outputs": [],
      "source": [
        "sorted_phrase_scores = sorted(phrase_scores, key = lambda t: t[1] * -1)\n",
        "#sorted_phrase_scores"
      ]
    },
    {
      "cell_type": "code",
      "execution_count": null,
      "id": "7c835de4-2c9f-4e92-a977-e30ec705a458",
      "metadata": {
        "id": "7c835de4-2c9f-4e92-a977-e30ec705a458"
      },
      "outputs": [],
      "source": [
        "# Get word instead of word id with score\n",
        "for phrase, scores in [(feature_names[word_id], score)\n",
        "                       for (word_id, scores) in sorted_phrase_scores][:20]:\n",
        "print(\"{0: <25} {1}\".format(phrase, score))"
      ]
    }
  ],
  "metadata": {
    "kernelspec": {
      "display_name": "Python 3 (ipykernel)",
      "language": "python",
      "name": "python3"
    },
    "language_info": {
      "codemirror_mode": {
        "name": "ipython",
        "version": 3
      },
      "file_extension": ".py",
      "mimetype": "text/x-python",
      "name": "python",
      "nbconvert_exporter": "python",
      "pygments_lexer": "ipython3",
      "version": "3.12.4"
    },
    "colab": {
      "provenance": [],
      "include_colab_link": true
    }
  },
  "nbformat": 4,
  "nbformat_minor": 5
}